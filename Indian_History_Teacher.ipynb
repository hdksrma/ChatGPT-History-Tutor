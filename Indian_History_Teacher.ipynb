{
 "cells": [
  {
   "cell_type": "markdown",
   "id": "bfda23f4",
   "metadata": {},
   "source": [
    "# Indian history teacher Bot using ChatGPT"
   ]
  },
  {
   "cell_type": "code",
   "execution_count": 2,
   "id": "13f1ad6c",
   "metadata": {},
   "outputs": [],
   "source": [
    "import os\n",
    "import openai"
   ]
  },
  {
   "cell_type": "markdown",
   "id": "5a2c61a9",
   "metadata": {},
   "source": [
    "### Set-up OpenAI API key from environment variables"
   ]
  },
  {
   "cell_type": "code",
   "execution_count": 3,
   "id": "9b8f37ad",
   "metadata": {},
   "outputs": [],
   "source": [
    "openai.api_key = os.getenv(\"OPENAI_API_KEY\")"
   ]
  },
  {
   "cell_type": "markdown",
   "id": "16d20b10",
   "metadata": {},
   "source": [
    "### Automating the Teacher-Student conversation"
   ]
  },
  {
   "cell_type": "code",
   "execution_count": 22,
   "id": "57876354",
   "metadata": {},
   "outputs": [],
   "source": [
    "class CreateBot:\n",
    "        \n",
    "    def __init__(self, system_prompt):\n",
    "        self.system = system_prompt\n",
    "        self.messages = [{'role': 'system', 'content':system_prompt}]\n",
    "        \n",
    "    def chat(self):\n",
    "        \n",
    "        print('To terminate conversation, type \"END\"')\n",
    "        question = ''\n",
    "        \n",
    "        while question != 'END':\n",
    "            \n",
    "            # USER INPUT\n",
    "            question = input(\"\")\n",
    "            print('\\n')\n",
    "            \n",
    "            # APPEND TO THE MESSAGES LIST OF DICTIONARY\n",
    "            self.messages.append({'role': 'user', 'content':question})\n",
    "            \n",
    "            # EXTRACT RESPONSE FROM CHATGPT\n",
    "            response = openai.ChatCompletion.create(\n",
    "                                        model = 'gpt-3.5-turbo',\n",
    "                                        messages = self.messages)\n",
    "            \n",
    "            # EXTRACT ASSISTANT MESSAGE (CONTENT)\n",
    "            content = response['choices'][0]['message']['content']\n",
    "            print('\\n')\n",
    "            print(content)\n",
    "            print('\\n')\n",
    "            self.messages.append({'role':'assistant', 'content':content})"
   ]
  },
  {
   "cell_type": "code",
   "execution_count": 23,
   "id": "e7b4128e",
   "metadata": {},
   "outputs": [],
   "source": [
    "history_tutor = CreateBot(system_prompt = 'You are an Indian History Teacher')"
   ]
  },
  {
   "cell_type": "code",
   "execution_count": 24,
   "id": "17ffdaec",
   "metadata": {},
   "outputs": [
    {
     "name": "stdout",
     "output_type": "stream",
     "text": [
      "To terminate conversation, type \"END\"\n",
      "Who was the first president of India?\n",
      "\n",
      "\n",
      "\n",
      "\n",
      "The first President of India was Dr. Rajendra Prasad. He served in the office from January 26, 1950, to May 13, 1962. He was a freedom fighter and played an instrumental role in the Indian Independence Movement.\n",
      "\n",
      "\n",
      "What was his background before becoming president?\n",
      "\n",
      "\n",
      "\n",
      "\n",
      "Before becoming the President of India, Dr. Rajendra Prasad was actively involved in Indian politics and the independence movement. He completed his education in Calcutta and then moved to England to study law. After returning to India, he became a practicing lawyer and was appointed as the President of the Indian National Congress in 1934 and again in 1939.\n",
      "\n",
      "Dr. Rajendra Prasad actively participated in the Quit India movement in 1942 and was subsequently arrested and imprisoned by the British authorities. Due to his leadership skills and dedication to the cause of independence, he was well-respected by his peers and was eventually elected as the President of the Constituent Assembly, which was responsible for drafting the Indian Constitution.\n",
      "\n",
      "After India gained independence in 1947, Dr. Rajendra Prasad was elected as the President of India on January 26, 1950, and served in the position for two terms until 1962.\n",
      "\n",
      "\n",
      "When was he born?\n",
      "\n",
      "\n",
      "\n",
      "\n",
      "Dr. Rajendra Prasad was born on December 3, 1884, in Siwan district of Bihar, India.\n",
      "\n",
      "\n",
      "Where did he live?\n",
      "\n",
      "\n",
      "\n",
      "\n",
      "Dr. Rajendra Prasad was born in Zeradei, Bihar, India, and spent most of his life in Bihar. After his birth, his family moved to Calcutta where he completed his early education. Later, he moved to England to study law and upon returning to India, he settled in Bihar and continued his law practice. During his political career, he lived in various parts of the country and spent a considerable amount of time in Delhi, the national capital.\n",
      "\n",
      "\n",
      "END\n",
      "\n",
      "\n",
      "\n",
      "\n",
      "Thank you!\n",
      "\n",
      "\n"
     ]
    }
   ],
   "source": [
    "history_tutor.chat()"
   ]
  }
 ],
 "metadata": {
  "kernelspec": {
   "display_name": "Python 3 (ipykernel)",
   "language": "python",
   "name": "python3"
  },
  "language_info": {
   "codemirror_mode": {
    "name": "ipython",
    "version": 3
   },
   "file_extension": ".py",
   "mimetype": "text/x-python",
   "name": "python",
   "nbconvert_exporter": "python",
   "pygments_lexer": "ipython3",
   "version": "3.9.12"
  }
 },
 "nbformat": 4,
 "nbformat_minor": 5
}
